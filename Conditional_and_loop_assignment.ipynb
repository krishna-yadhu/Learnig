{
 "cells": [
  {
   "cell_type": "markdown",
   "metadata": {
    "id": "wNRNTbrsc53d"
   },
   "source": [
    "# If - elif - else statement"
   ]
  },
  {
   "cell_type": "code",
   "execution_count": null,
   "metadata": {
    "id": "MiPfTnBycxNa"
   },
   "outputs": [],
   "source": [
    "W. A P. which takes one number from 0 to 9 from the user and prints it in the word. And if the word is not from 0 to 9 then\n",
    "it should print that number is outside of the range and program should exit.\n",
    "For exapmple:- \n",
    "input = 1\n",
    "output = one\n"
   ]
  },
  {
   "cell_type": "code",
   "execution_count": 2,
   "metadata": {},
   "outputs": [
    {
     "name": "stdout",
     "output_type": "stream",
     "text": [
      "Enter a Number between 0 to 9: 5\n",
      "Five\n"
     ]
    }
   ],
   "source": [
    "x = int(input(\"Enter a Number between 0 to 9: \"))\n",
    "if x == 0:\n",
    "    print(\"Zero\")\n",
    "elif x == 1:\n",
    "    print(\"One\")\n",
    "elif x == 2:\n",
    "    print(\"Two\")\n",
    "elif x == 3:\n",
    "    print(\"Three\")\n",
    "elif x == 4:\n",
    "    print(\"Four\")\n",
    "elif x == 5:\n",
    "    print(\"Five\")\n",
    "elif x == 6:\n",
    "    print(\"Six\")\n",
    "elif x == 7:\n",
    "    print(\"Seven\")\n",
    "elif x == 8:\n",
    "    print(\"Eight\")\n",
    "elif x == 9:\n",
    "    print(\"Nine\")\n",
    "else:\n",
    "    print(\"Out of range\")"
   ]
  },
  {
   "cell_type": "code",
   "execution_count": null,
   "metadata": {
    "id": "vEMNOv9zdA39"
   },
   "outputs": [],
   "source": [
    "W. A P. to implement calculator but the operation to be done and two numbers will be taken as input from user:-\n",
    "Operation console should show below:-\n",
    "    Please select any one operation from below:-\n",
    "        * To add enter 1\n",
    "        * to subtract enter 2\n",
    "        * To multiply enter 3\n",
    "        * To divide enter 4\n",
    "        * To divide and find quotient enter 5\n",
    "        * To divide and find remainder enter 6\n",
    "        * To divide and find num1 to the power of num2 enter 7\n",
    "        * To Come out of the program enter 8\n",
    "\n",
    "\n",
    "\n"
   ]
  },
  {
   "cell_type": "code",
   "execution_count": 5,
   "metadata": {},
   "outputs": [
    {
     "name": "stdout",
     "output_type": "stream",
     "text": [
      "Enter 1st number: 8\n",
      "Enter 1st number: 8\n",
      " * To add enter 1\n",
      "* To subtract enter 2\n",
      "* To multiply enter 3\n",
      "* To divide enter 4\n",
      "* To divide and find quotient enter 5\n",
      "* To divide and find remainder enter 6\n",
      "* To divide and find num1 to the power of num2 enter 7\n",
      "* To Come out of the program enter 8\n",
      "7\n",
      "8 to power of 8 is 16777216\n"
     ]
    }
   ],
   "source": [
    "x = int(input(\"Enter 1st number: \"))\n",
    "y = int(input(\"Enter 1st number: \"))\n",
    "z = int(input(''' * To add enter 1\n",
    "* To subtract enter 2\n",
    "* To multiply enter 3\n",
    "* To divide enter 4\n",
    "* To divide and find quotient enter 5\n",
    "* To divide and find remainder enter 6\n",
    "* To divide and find num1 to the power of num2 enter 7\n",
    "* To Come out of the program enter 8\\n'''))\n",
    "if z == 1:\n",
    "    z1 = x+y\n",
    "    print(f'Sum of {x} and {y} is {z1}')\n",
    "elif z == 2:\n",
    "    z1 = x-y\n",
    "    print(f'Substract of {x} and {y} is {z1}')\n",
    "elif z == 3:\n",
    "    z1 = x*y\n",
    "    print(f'Multipy of {x} and {y} is {z1}')\n",
    "elif z == 4:\n",
    "    z1 = x/y\n",
    "    print(f'Division of {x} by {y} is {z1}')\n",
    "elif z == 5:\n",
    "    z1 = x//y\n",
    "    print(f'Quotient of {x} by {y} is {z1}')\n",
    "elif z == 6:\n",
    "    z1 = x%y\n",
    "    print(f'Remainder of {x} by {y} is {z1}')\n",
    "elif z == 7:\n",
    "    z1 = x**y\n",
    "    print(f'{x} to power of {y} is {z1}')\n",
    "else:\n",
    "    print('Exit')\n"
   ]
  },
  {
   "cell_type": "code",
   "execution_count": null,
   "metadata": {
    "id": "1e2gwYLqdC1s"
   },
   "outputs": [],
   "source": [
    "W A P to check whether a year entered by user is an leap year or not?\n",
    "Check with below input:-\n",
    "    leap year:- 2012, 1968, 2004, 1200, 1600,2400\n",
    "    Non-lear year:- 1971, 2006, 1700,1800,1900\n",
    "    \n"
   ]
  },
  {
   "cell_type": "code",
   "execution_count": 7,
   "metadata": {},
   "outputs": [
    {
     "name": "stdout",
     "output_type": "stream",
     "text": [
      "Enter a year: 1700\n",
      "1700 is not a leap year\n"
     ]
    }
   ],
   "source": [
    "x = int(input(\"Enter a year: \"))\n",
    "y = x%4 \n",
    "y1 = x%100\n",
    "y2 = x%400\n",
    "if (y == 0 and y1 != 0) or (y1 == 0 and y2 == 0 ) :\n",
    "    print(f\"{x} is a leap year\")\n",
    "else:\n",
    "    print(f\"{x} is not a leap year\")"
   ]
  },
  {
   "cell_type": "code",
   "execution_count": null,
   "metadata": {
    "id": "_tpXv1EtdEre"
   },
   "outputs": [],
   "source": [
    "W A P which takes one number from the user and checks whether it is an even or odd number?, If it even then prints number is \n",
    "even number else prints that number is odd number.\n",
    "\n"
   ]
  },
  {
   "cell_type": "code",
   "execution_count": 10,
   "metadata": {},
   "outputs": [
    {
     "name": "stdout",
     "output_type": "stream",
     "text": [
      "Enter  number: 2\n",
      "2 is even\n"
     ]
    }
   ],
   "source": [
    "x = int(input(\"Enter  number: \"))\n",
    "y = x%2\n",
    "if y == 0:\n",
    "    print(f\"{x} is even\")\n",
    "else:\n",
    "    print(f\"{x} is odd\")"
   ]
  },
  {
   "cell_type": "code",
   "execution_count": null,
   "metadata": {
    "id": "Q1HumymCdG6i"
   },
   "outputs": [],
   "source": [
    "W A P which takes two numbers from the user and prints below output:-\n",
    "    1. num1 is greater than num2 if num1 is greater than num2\n",
    "    2. num1 is smaller than num2 if num1 is smaller than num2\n",
    "    3. num1 is equal to num2 if num1 and num2 are equal\n",
    "\n",
    "Note:- 1. Do this problem using if - else \n",
    "      2. Do this using ternary operator\n",
    "\n"
   ]
  },
  {
   "cell_type": "code",
   "execution_count": 21,
   "metadata": {},
   "outputs": [
    {
     "name": "stdout",
     "output_type": "stream",
     "text": [
      "Enter two numbers: 1\n",
      "1\n",
      "1 is equal to 1\n"
     ]
    }
   ],
   "source": [
    "x = int(input(\"Enter two numbers: \"))\n",
    "y = int(input())\n",
    "if x == y:\n",
    "    print(f\"{x} is equal to {x}\")\n",
    "else:\n",
    "    if x > y:\n",
    "        print(f\"{x} greater than {y}\")\n",
    "    else:\n",
    "        print(f\"{x} smaller than {y}\")"
   ]
  },
  {
   "cell_type": "code",
   "execution_count": null,
   "metadata": {},
   "outputs": [],
   "source": [
    "x = int(input(\"Enter two numbers: \"))\n",
    "y = int(input())\n",
    "print(f\"{x} is equal to {x}\") if x == y else print(f\"{x} greater than {y}\")  if x > y else print(f\"{x} smaller than {y}\")"
   ]
  },
  {
   "cell_type": "code",
   "execution_count": null,
   "metadata": {
    "id": "LR6TVB-DdOPf"
   },
   "outputs": [],
   "source": [
    "W A P which takes three numbers from the user and prints below output:-\n",
    "    1. num1 is greater than num2 and num3 if num1 is greater than num2 and num3\n",
    "    2. num2 is greater than num1 and num3 if num2 is greater than num1 and num3\n",
    "    3. num3 is greater than num1 and num2 if num3 is greater than num1 and num2\n",
    "\n",
    "Note:- 1. Do this problem using if - elif - else \n",
    "      2. Do this using ternary operator\n",
    "\n",
    "a = a if a>b else b\n",
    "\n"
   ]
  },
  {
   "cell_type": "code",
   "execution_count": null,
   "metadata": {},
   "outputs": [],
   "source": [
    "x = int(input(\"Enter three numbers: \"))\n",
    "y = int(input())\n",
    "z = int(input())\n",
    "if x > y and x > z:\n",
    "    print(f\"{x} is greater then {y} and {z}\")\n",
    "elif y > x and y > z:\n",
    "    print(f\"{y} greater than {z} and {x}\")\n",
    "else :\n",
    "    print(f\"{z} greater than {y} and {x}\")"
   ]
  },
  {
   "cell_type": "code",
   "execution_count": null,
   "metadata": {},
   "outputs": [],
   "source": [
    "x = int(input(\"Enter three numbers: \"))\n",
    "y = int(input())\n",
    "z = int(input())\n",
    "print(f\"{x} is greater then {y} and {z}\") if (x > y and x > z) else print(f\"{y} greater than {z} and {x}\") if (y > x and y > z) else print(f\"{z} greater than {y} and {x}\") "
   ]
  },
  {
   "cell_type": "markdown",
   "metadata": {
    "id": "IoOLQMUGdSox"
   },
   "source": [
    "# Loops - for loop, while loop"
   ]
  },
  {
   "cell_type": "code",
   "execution_count": null,
   "metadata": {
    "id": "9K23Uld8dQfA"
   },
   "outputs": [],
   "source": [
    "Write a Python program to find the length of the my_str using loop:-\n",
    "\n",
    "Input:- 'Write a Python program to find the length of the my_str'\n",
    "Output:- 55\n"
   ]
  },
  {
   "cell_type": "code",
   "execution_count": 23,
   "metadata": {},
   "outputs": [
    {
     "name": "stdout",
     "output_type": "stream",
     "text": [
      "55\n"
     ]
    }
   ],
   "source": [
    "y = 'Write a Python program to find the length of the my_str'\n",
    "a = 0\n",
    "for x in y:\n",
    "    a +=1\n",
    "print(a)"
   ]
  },
  {
   "cell_type": "code",
   "execution_count": null,
   "metadata": {
    "id": "bp6AcqTsdYxy"
   },
   "outputs": [],
   "source": [
    "Write a Python program to find the total number of times letter 'p' is appeared in the below string using loop:-\n",
    "    \n",
    "Input:- 'peter piper picked a peck of pickled peppers.\\n'\n",
    "Output:- 9\n",
    "\n"
   ]
  },
  {
   "cell_type": "code",
   "execution_count": 22,
   "metadata": {},
   "outputs": [
    {
     "name": "stdout",
     "output_type": "stream",
     "text": [
      "9\n"
     ]
    }
   ],
   "source": [
    "y = 'peter piper picked a peck of pickled peppers.\\n'\n",
    "a = 0\n",
    "p = 'p'\n",
    "for x in y: \n",
    "    if x == p :\n",
    "        a +=1\n",
    "print(a)"
   ]
  },
  {
   "cell_type": "code",
   "execution_count": null,
   "metadata": {
    "id": "xvxSBhTJdav1"
   },
   "outputs": [],
   "source": [
    "Write a Python Program, to print all the indexes of all occurences of letter 'p' appeared in the string using loop:-\n",
    "    \n",
    "Input:- 'peter piper picked a peck of pickled peppers.'\n",
    "Output:- \n",
    "0\n",
    "6\n",
    "8\n",
    "12\n",
    "21\n",
    "29\n",
    "37\n",
    "39\n",
    "40"
   ]
  },
  {
   "cell_type": "code",
   "execution_count": 24,
   "metadata": {},
   "outputs": [
    {
     "name": "stdout",
     "output_type": "stream",
     "text": [
      "0\n",
      "6\n",
      "8\n",
      "12\n",
      "21\n",
      "29\n",
      "37\n",
      "39\n",
      "40\n"
     ]
    }
   ],
   "source": [
    "y = 'peter piper picked a peck of pickled peppers.'\n",
    "a = 0\n",
    "p= \"p\"\n",
    "for x in y:\n",
    "    if x == p:\n",
    "        print(a)\n",
    "    a += 1\n",
    "        "
   ]
  },
  {
   "cell_type": "code",
   "execution_count": null,
   "metadata": {
    "id": "79L_feMadbmw"
   },
   "outputs": [],
   "source": [
    "Write a python program to find below output using loop:-\n",
    "\n",
    "Input:- 'peter piper picked a peck of pickled peppers.'\n",
    "Output:- ['peter', 'piper', 'picked', 'a', 'peck', 'of', 'pickled', 'peppers']"
   ]
  },
  {
   "cell_type": "code",
   "execution_count": null,
   "metadata": {},
   "outputs": [],
   "source": [
    "# clarification\n",
    "\n",
    "y = 'peter piper picked a peck of pickled peppers.'\n",
    "# print(y)\n",
    "l= [y]\n",
    "print(l)\n",
    "l1= []\n",
    "for x in y:\n",
    "    \n",
    "    a = \" \"\n",
    "    b = \",\"\n",
    "    if x != a:\n",
    "        l1.append(x)\n",
    "    else:\n",
    "        l1.append(b)\n",
    "# print (l1)    \n",
    "str1 = \"\"\n",
    "for a1 in l1: \n",
    "    str1 = str1+a1 \n",
    "print(str1)\n",
    "l2 = [str1]\n",
    "print(l2,type(l2))\n",
    "\n"
   ]
  },
  {
   "cell_type": "code",
   "execution_count": null,
   "metadata": {
    "id": "vzs5AJ53deVS"
   },
   "outputs": [],
   "source": [
    "Write a python program to find below output using loop:-\n",
    "\n",
    "Input:- 'peter piper picked a peck of pickled peppers.'\n",
    "Output:- 'peppers pickled of peck a picked piper peter'\n",
    "\n"
   ]
  },
  {
   "cell_type": "code",
   "execution_count": null,
   "metadata": {
    "id": "i-HP7DrCdhwS"
   },
   "outputs": [],
   "source": [
    "Write a python program to find below output using loop:-\n",
    "\n",
    "Input:- 'peter piper picked a peck of pickled peppers.'\n",
    "Output:- '.sreppep delkcip fo kcep a dekcip repip retep'\n",
    "\n"
   ]
  },
  {
   "cell_type": "code",
   "execution_count": null,
   "metadata": {
    "id": "3rt6p0ytdkq0"
   },
   "outputs": [],
   "source": [
    "Write a python program to find below output using loop:-\n",
    "\n",
    "Input:- 'peter piper picked a peck of pickled peppers.'\n",
    "Output:- 'retep repip dekcip a kcep fo delkcip sreppep'"
   ]
  },
  {
   "cell_type": "code",
   "execution_count": null,
   "metadata": {
    "id": "HdlAWgT2dnKO"
   },
   "outputs": [],
   "source": [
    "Write a python program to find below output using loop:-\n",
    "\n",
    "Input:- 'peter piper picked a peck of pickled peppers.'\n",
    "Output:- 'Peter Piper Picked A Peck Of Pickled Peppers'"
   ]
  },
  {
   "cell_type": "code",
   "execution_count": null,
   "metadata": {
    "id": "OthUuacodrNl"
   },
   "outputs": [],
   "source": [
    "Write a python program to find below output using loop:-\n",
    "\n",
    "Input:- 'Peter Piper Picked A Peck Of Pickled Peppers.'\n",
    "Output:- 'Peter piper picked a peck of pickled peppers'"
   ]
  },
  {
   "cell_type": "code",
   "execution_count": null,
   "metadata": {
    "colab": {
     "base_uri": "https://localhost:8080/",
     "height": 34
    },
    "id": "scmDJE-ldsI9",
    "outputId": "4b1d1979-9f4a-4bc6-c505-b88b1bbd4d5d"
   },
   "outputs": [
    {
     "name": "stdout",
     "output_type": "stream",
     "text": [
      "29\n"
     ]
    }
   ],
   "source": [
    "Write a python program to implement index method using loop. If sub_str is found in my_str then it will print the index\n",
    "of first occurrence of first character of matching string in my_str:-\n",
    "\n",
    "Input:- my_str = 'Peter Piper Picked A Peck Of Pickled Peppers.', sub_str = 'Pickl'\n",
    "Output:- 29\n",
    "\n"
   ]
  },
  {
   "cell_type": "code",
   "execution_count": null,
   "metadata": {
    "id": "Kq_fwdb_dvYE"
   },
   "outputs": [],
   "source": [
    "Write a python program to implement replace method using loop. If sub_str is found in my_str then it will replace the first \n",
    "occurrence of sub_str with new_str else it will will print sub_str not found:-\n",
    "\n",
    "Input:- my_str = 'Peter Piper Picked A Peck Of Pickled Peppers.', sub_str = 'Peck', new_str = 'Pack'\n",
    "Output:- 'Peter Piper Picked A Pack Of Pickled Peppers.'\n",
    "\n",
    "\n"
   ]
  },
  {
   "cell_type": "code",
   "execution_count": null,
   "metadata": {
    "id": "4Qes5D0cdyd1"
   },
   "outputs": [],
   "source": [
    "Write a python program to find below output (implements rjust and ljust) using loop:-\n",
    "\n",
    "Input:- 'Peter Piper Picked A Peck Of Pickled Peppers.', sub_str = 'Peck', \n",
    "Output:- '*********************Peck********************'\n",
    "\n",
    "\n",
    "\n"
   ]
  },
  {
   "cell_type": "code",
   "execution_count": null,
   "metadata": {
    "id": "DsOrb07Od0lR"
   },
   "outputs": [],
   "source": [
    "Write a python program to find below output using loop:-\n",
    "\n",
    "Input:- 'This is Python class', sep = ' is', \n",
    "Output:- ['This', 'is', 'Python class']\n",
    "\n"
   ]
  },
  {
   "cell_type": "code",
   "execution_count": null,
   "metadata": {
    "id": "jRnBVufmd2Ay"
   },
   "outputs": [],
   "source": [
    "\n",
    "\n"
   ]
  }
 ],
 "metadata": {
  "colab": {
   "name": "Conditional_and_loop_assignment.ipynb",
   "provenance": []
  },
  "kernelspec": {
   "display_name": "Python 3 (ipykernel)",
   "language": "python",
   "name": "python3"
  },
  "language_info": {
   "codemirror_mode": {
    "name": "ipython",
    "version": 3
   },
   "file_extension": ".py",
   "mimetype": "text/x-python",
   "name": "python",
   "nbconvert_exporter": "python",
   "pygments_lexer": "ipython3",
   "version": "3.9.7"
  }
 },
 "nbformat": 4,
 "nbformat_minor": 1
}
