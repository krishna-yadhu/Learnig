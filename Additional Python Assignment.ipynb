{
 "cells": [
  {
   "cell_type": "markdown",
   "id": "thermal-corporation",
   "metadata": {},
   "source": [
    "# Assume Data wherever needed/necessary"
   ]
  },
  {
   "cell_type": "markdown",
   "id": "central-malta",
   "metadata": {},
   "source": [
    "### Loop Statements"
   ]
  },
  {
   "cell_type": "markdown",
   "id": "ec6eaf50",
   "metadata": {},
   "source": [
    "#L1\n",
    "WAP to print all elements of a list using a for loop. \n",
    "Take the elements of the list from the user.\n",
    "\n",
    "For e.g. Input: l = [3,'Hi',67,0,12,0,8]\n",
    "        Output: 3\n",
    "                'Hi'\n",
    "                67\n",
    "                0\n",
    "                12\n",
    "                0\n",
    "                8"
   ]
  },
  {
   "cell_type": "code",
   "execution_count": 1,
   "id": "456dbc4c",
   "metadata": {},
   "outputs": [
    {
     "name": "stdout",
     "output_type": "stream",
     "text": [
      "Enter number of elements in list: 7\n",
      "Enter element in list:3\n",
      "Enter element in list:'Hi'\n",
      "Enter element in list:67\n",
      "Enter element in list:0\n",
      "Enter element in list:12\n",
      "Enter element in list:0\n",
      "Enter element in list:8\n",
      "[3, 'Hi', 67, 0, 12, 0, 8]\n",
      "3\n",
      "Hi\n",
      "67\n",
      "0\n",
      "12\n",
      "0\n",
      "8\n"
     ]
    }
   ],
   "source": [
    "l = []\n",
    "a = 0\n",
    "x = int(input('Enter number of elements in list: '))\n",
    "while (a != x):\n",
    "    l.append(eval(input('Enter element in list:')))\n",
    "    x -=1\n",
    "print(l)\n",
    "for a in l:\n",
    "    print(a)"
   ]
  },
  {
   "cell_type": "markdown",
   "id": "1291af53",
   "metadata": {},
   "source": [
    "#L2\n",
    "WAP to take inputs from user to make a list. Length of the list has to be taken from the user.\n",
    "Again take one input from user and search it in the list and delete that element, if found.\n",
    "If not found, print \"Element not present\".\n",
    "\n",
    "For e.g. Input: len_list = 5\n",
    "                list = [\"a\", \"b\", \"y\", \"e\", \"p\"]\n",
    "                search_element = \"g\"\n",
    "                    Output: \"Element not found\"\n",
    "                search_element = \"e\"\n",
    "                    Output: [\"a\", \"b\", \"y\", \"p\"]"
   ]
  },
  {
   "cell_type": "code",
   "execution_count": 3,
   "id": "524cefe5",
   "metadata": {},
   "outputs": [
    {
     "name": "stdout",
     "output_type": "stream",
     "text": [
      "Enter number of elements in list: 5\n",
      "Enter element in list:\"a\"\n",
      "Enter element in list:\"b\"\n",
      "Enter element in list:\"y\"\n",
      "Enter element in list:\"e\"\n",
      "Enter element in list:\"p\"\n",
      "Search Element:\"g\"\n",
      "Element not found\n"
     ]
    }
   ],
   "source": [
    "l = []\n",
    "a = 0\n",
    "x = int(input('Enter number of elements in list: '))\n",
    "x1 =x\n",
    "while (a != x):\n",
    "    l.append(eval(input('Enter element in list:')))\n",
    "    x -=1\n",
    "y = eval(input('Search Element:'))\n",
    "for a in l:\n",
    "    if a == y:\n",
    "        l.remove(y)\n",
    "        print(l)\n",
    "        \n",
    "if (len(l) == x1):\n",
    "    print(\"Element not found\")\n",
    "    "
   ]
  },
  {
   "cell_type": "code",
   "execution_count": null,
   "id": "e329c83b",
   "metadata": {},
   "outputs": [],
   "source": [
    "l = []\n",
    "x = int(input('Enter number of elements in list: '))\n",
    "for a in range(x):\n",
    "    l.append(eval(input('Enter element in list:')))\n",
    "y = eval(input('Search Element:'))\n",
    "for a in l:\n",
    "    if a == y:\n",
    "        l.remove(y)\n",
    "        print(l)\n",
    "        \n",
    "if (len(l) == x):\n",
    "    print(\"Element not found\")\n",
    "    "
   ]
  },
  {
   "cell_type": "markdown",
   "id": "d705af66",
   "metadata": {},
   "source": [
    "#L3\n",
    "Make a grading system for a school based on the marks of the students using the following criteria.\n",
    "Marks 0 - 40 : Grade F\n",
    "     41 - 50 : Grade E\n",
    "     51 - 70 : Grade D\n",
    "     71 - 80 : Grade C\n",
    "     81 - 90 : Grade B\n",
    "     91 - 100: Grade A\n",
    "Continuously take marks as input from the user and print the grade. \n",
    "The user can enter \"Stop\" to stop the loop."
   ]
  },
  {
   "cell_type": "code",
   "execution_count": 11,
   "id": "8cc2d128",
   "metadata": {},
   "outputs": [
    {
     "name": "stdout",
     "output_type": "stream",
     "text": [
      "Enter mark of student: 1\n",
      "Grade F\n",
      "Enter mark of student: a\n",
      "Grade F\n",
      "Enter mark of student: c\n",
      "Invalid input\n",
      "Enter mark of student: \"stop\"\n"
     ]
    }
   ],
   "source": [
    "while (True):\n",
    "    try:\n",
    "        x = eval(input(\"Enter mark of student: \"))\n",
    "        if (x == \"stop\" or x == \"Stop\"):\n",
    "            break\n",
    "        elif x > 90 and x<= 100:\n",
    "            print(\"Grade A\")\n",
    "        elif x > 80 and x<= 90:\n",
    "            print(\"Grade B\")\n",
    "        elif x > 70 and x<= 80:\n",
    "            print(\"Grade C\")\n",
    "        elif x > 50 and x<= 70:\n",
    "            print(\"Grade D\")\n",
    "        elif x > 40 and x<= 50:\n",
    "            print(\"Grade E\")\n",
    "        elif x >= 0 and x<= 40:\n",
    "            print(\"Grade F\")\n",
    "        else:\n",
    "            print(\"out of range\")\n",
    "    except:\n",
    "        print(\"Invalid input\")\n"
   ]
  },
  {
   "cell_type": "markdown",
   "id": "ac3d56f5",
   "metadata": {},
   "source": [
    "#L4\n",
    "WAP to save the cube of all numbers from 1 to a number n in list, \n",
    "where n is taken as input from the user.\n",
    "\n",
    "For e.g. Input: 5\n",
    "        Output: [1, 8, 27, 64, 125]  #Cube of numbers from 1 to 5 where 5 is the input from the user"
   ]
  },
  {
   "cell_type": "code",
   "execution_count": 9,
   "id": "2afcb4df",
   "metadata": {},
   "outputs": [
    {
     "name": "stdout",
     "output_type": "stream",
     "text": [
      "Enter no of elements:7\n",
      "[1, 8, 27, 64, 125, 216, 343]\n"
     ]
    }
   ],
   "source": [
    "n = int(input(\"Enter no of elements:\"))\n",
    "l1 = []\n",
    "for x in range(1,n+1):\n",
    "    y = x*x*x\n",
    "    l1.append(y)\n",
    "\n",
    "print(l1)"
   ]
  },
  {
   "cell_type": "code",
   "execution_count": null,
   "id": "nervous-publication",
   "metadata": {},
   "outputs": [],
   "source": [
    "#L5\n",
    "WAP to print even numbers in a given range in reverse order. Take the range from the user.\n",
    "\n",
    "For e.g. Input: start = 3\n",
    "                End = 14\n",
    "        Output: 14, 12, 10, 8, 6, 4"
   ]
  },
  {
   "cell_type": "code",
   "execution_count": 3,
   "id": "91f28150",
   "metadata": {},
   "outputs": [
    {
     "name": "stdout",
     "output_type": "stream",
     "text": [
      "Enter star range: 3\n",
      "Enter end range: 14\n",
      "14\n",
      "12\n",
      "10\n",
      "8\n",
      "6\n",
      "4\n",
      "[14, 12, 10, 8, 6, 4]\n"
     ]
    }
   ],
   "source": [
    "y1 = int(input(\"Enter star range: \"))\n",
    "y2 = int(input(\"Enter end range: \")) \n",
    "l1 = []\n",
    "if y2>y1:\n",
    "    for x in range(y2,y1-1,-1):\n",
    "        if x%2 == 0:\n",
    "            l1.append(x)\n",
    "else:\n",
    "    print(\"Check Range\")\n",
    "print(l1)"
   ]
  },
  {
   "cell_type": "code",
   "execution_count": null,
   "id": "9ee799c4",
   "metadata": {},
   "outputs": [],
   "source": [
    "#L6\n",
    "WAP to print odd numbers in a given range in reverse order.\n",
    "Take the range from the user.\n",
    "\n",
    "For e.g. Input: start = 3\n",
    "                End = 14\n",
    "        Output: 13, 11, 9, 7, 5, 3"
   ]
  },
  {
   "cell_type": "code",
   "execution_count": 7,
   "id": "339b6c3c",
   "metadata": {},
   "outputs": [
    {
     "name": "stdout",
     "output_type": "stream",
     "text": [
      "Enter star range: 3\n",
      "Enter end range: 14\n",
      "13, 11, 9, 7, 5, 3, "
     ]
    }
   ],
   "source": [
    "y1 = int(input(\"Enter star range: \"))\n",
    "y2 = int(input(\"Enter end range: \")) \n",
    "l1 = []\n",
    "if y2>y1:\n",
    "    for x in range(y2,y1-1,-1):\n",
    "        if x%2 != 0:\n",
    "            print(x, end=', ')\n",
    "else:\n",
    "    print(\"Check Range\")"
   ]
  },
  {
   "cell_type": "code",
   "execution_count": null,
   "id": "southwest-barrel",
   "metadata": {},
   "outputs": [],
   "source": [
    "#L7\n",
    "WAP to print multiplication table of a number taken as input from the user.\n",
    "\n",
    "For e.g. Input: 5\n",
    "        Output: 5*1 = 5\n",
    "                5*2 = 10\n",
    "                .\n",
    "                .\n",
    "                .\n",
    "                5*10 = 50"
   ]
  },
  {
   "cell_type": "code",
   "execution_count": null,
   "id": "7f4a59ae",
   "metadata": {},
   "outputs": [],
   "source": [
    "y1 = int(input(\"Enter number to print multiplication table: \"))\n",
    "for x in range(10):\n",
    "    x += 1\n",
    "    print(f\"{y1}*{x} = {x*y1}\")"
   ]
  },
  {
   "cell_type": "code",
   "execution_count": null,
   "id": "german-potter",
   "metadata": {},
   "outputs": [],
   "source": [
    "#L8\n",
    "WAP to print the following pattern.\n",
    "\n",
    "1\n",
    "1 2\n",
    "1 2 3\n",
    "1 2 3 4"
   ]
  },
  {
   "cell_type": "code",
   "execution_count": null,
   "id": "3ec5065a",
   "metadata": {},
   "outputs": [],
   "source": [
    "y1 = int(input(\"Enter the number: \"))\n",
    "for x in range(y1+1):\n",
    "    for x1 in range(x):\n",
    "        print(x,end=' ')\n",
    "    print('')"
   ]
  },
  {
   "cell_type": "code",
   "execution_count": null,
   "id": "activated-orbit",
   "metadata": {},
   "outputs": [],
   "source": [
    "#L9\n",
    "Write a program to calculate the sum of series up to n terms for a digit d. n & d are taken as input from the user.\n",
    "\n",
    "For example:\n",
    "    Input: n = 5, d = 2\n",
    "    Logic: 2 + 22 + 222 + 2222 + 22222 \n",
    "    Output: 24690"
   ]
  },
  {
   "cell_type": "code",
   "execution_count": null,
   "id": "d93fd31e",
   "metadata": {},
   "outputs": [],
   "source": [
    "n = int(input(\"Enter no of series: \"))\n",
    "d = int(input(\"Enter digit: \"))\n",
    "# for x in range(n+1):\n",
    "z1 = 0\n",
    "z3 = d\n",
    "for x1 in range(n):\n",
    "    z = ((10**x1)*d)\n",
    "    z1 = z + z1\n",
    "    for p in range(1):\n",
    "        if x1 != 0:\n",
    "            z3 = z1 + z3\n",
    "print(z3)"
   ]
  },
  {
   "cell_type": "code",
   "execution_count": null,
   "id": "spread-answer",
   "metadata": {},
   "outputs": [],
   "source": [
    "#L10\n",
    "WAP that keeps on accepting numbers from the user until the user enters Zero(0) as input.\n",
    "Display the sum and average of all the numbers.\n",
    "\n",
    "For example:\n",
    "    Input: 3, 6, 8, 2, 5, Stop\n",
    "    Output: Sum = 24\n",
    "            Average = 4.8"
   ]
  },
  {
   "cell_type": "code",
   "execution_count": null,
   "id": "25ac3d60",
   "metadata": {},
   "outputs": [],
   "source": [
    "l1 = []\n",
    "y = 0\n",
    "while(1):\n",
    "    try:\n",
    "        x = int(input(\"Enter a number: \"))\n",
    "        if isinstance(x, int) and x != 0:\n",
    "            print(x)\n",
    "            l1.append(x)\n",
    "        elif x == 0:\n",
    "            y = sum(l1)\n",
    "            y2 = y/len(l1)\n",
    "            print(f\"Sum {y}\\nAverage {y2}\")\n",
    "            break\n",
    "    except:\n",
    "        print(\"Check the input\")"
   ]
  },
  {
   "cell_type": "code",
   "execution_count": null,
   "id": "incorporated-stupid",
   "metadata": {},
   "outputs": [],
   "source": [
    "#L11\n",
    "Accept n numbers from the user and display their average. n is input from the user.\n",
    "\n",
    "For example:\n",
    "    Input: n = 5\n",
    "        Numbers = 3, 6, 2, 9, 0\n",
    "    Output: Average = 4.0"
   ]
  },
  {
   "cell_type": "code",
   "execution_count": 7,
   "id": "interim-disco",
   "metadata": {},
   "outputs": [
    {
     "name": "stdout",
     "output_type": "stream",
     "text": [
      "Enter number of elements: 3\n",
      "Enter numbers: 1\n",
      "Enter numbers: 2\n",
      "Enter numbers: 3\n",
      "Average2.0\n"
     ]
    }
   ],
   "source": [
    "y1 = 0\n",
    "x = int(input(\"Enter number of elements: \"))\n",
    "for a in range(x):\n",
    "    y = int(input(\"Enter numbers: \"))\n",
    "    y1 = y1 + y\n",
    "y3 = y1/x\n",
    "print(f\"Average{y3}\")"
   ]
  },
  {
   "cell_type": "code",
   "execution_count": null,
   "id": "increased-portsmouth",
   "metadata": {},
   "outputs": [],
   "source": []
  },
  {
   "cell_type": "code",
   "execution_count": null,
   "id": "accessible-victory",
   "metadata": {},
   "outputs": [],
   "source": []
  },
  {
   "cell_type": "markdown",
   "id": "shared-cemetery",
   "metadata": {},
   "source": [
    "### String Questions"
   ]
  },
  {
   "cell_type": "code",
   "execution_count": null,
   "id": "referenced-order",
   "metadata": {},
   "outputs": [],
   "source": [
    "#S1*****************\n",
    "Write a Python program to count the number of each of the characters (character frequency) \n",
    "\n",
    "   in a string input by the user. Ignore the case.\n",
    "   For example: Input: \"Python is great\"\n",
    "\t\tOutput: P = 1, y = 1, t = 2, and so on..."
   ]
  },
  {
   "cell_type": "code",
   "execution_count": 12,
   "id": "916ae632",
   "metadata": {},
   "outputs": [
    {
     "name": "stdout",
     "output_type": "stream",
     "text": [
      "Enter the string: Python is great\n",
      "y = 1, n = 1, s = 1,   = 2, o = 1, t = 2, i = 1, r = 1, P = 1, g = 1, a = 1, e = 1, h = 1, "
     ]
    }
   ],
   "source": [
    "y = input(\"Enter the string: \")\n",
    "for a in set(y):\n",
    "    x1 = y.count(a)\n",
    "    print(f\"{a} = {x1}\", end = \", \")\n"
   ]
  },
  {
   "cell_type": "code",
   "execution_count": null,
   "id": "confirmed-graduate",
   "metadata": {},
   "outputs": [],
   "source": [
    "#S2\n",
    "Write a Python program to find the digits which are absent in a given mobile number.\n",
    "\n",
    "   For example: Input : 9354328855\n",
    "                Output: 0167"
   ]
  },
  {
   "cell_type": "code",
   "execution_count": 11,
   "id": "96f3be5a",
   "metadata": {},
   "outputs": [
    {
     "name": "stdout",
     "output_type": "stream",
     "text": [
      "enter number: 12345\n",
      "67890\n"
     ]
    }
   ],
   "source": [
    "y = input(\"enter number: \")\n",
    "y1 = str(1234567890)\n",
    "for a in set(y):\n",
    "    if int(a) <= 9:\n",
    "        y1 = y1.replace(a,'')\n",
    "print(y1)\n"
   ]
  },
  {
   "cell_type": "code",
   "execution_count": null,
   "id": "graduate-scratch",
   "metadata": {},
   "outputs": [],
   "source": [
    "#S3[Error handeling]\n",
    "WAP in python to find average of n numbers taken as input from the user dynamically."
   ]
  },
  {
   "cell_type": "code",
   "execution_count": 9,
   "id": "d98a29b0",
   "metadata": {},
   "outputs": [
    {
     "name": "stdout",
     "output_type": "stream",
     "text": [
      "enter numbers: 1223\n",
      "average=2.0\n"
     ]
    }
   ],
   "source": [
    "x = input(\"enter numbers: \")\n",
    "x1 = 0\n",
    "for a in x:\n",
    "    x1 = x1 + int(a)\n",
    "avg = x1/len(x)\n",
    "print(f\"average={avg}\")\n"
   ]
  },
  {
   "cell_type": "code",
   "execution_count": null,
   "id": "international-hazard",
   "metadata": {},
   "outputs": [],
   "source": [
    "#S4\n",
    "WAP in python that accepts a hyphen-separated sequence of \n",
    "words as input and prints the words in a hyphen-separated \n",
    "sequence after sorting them alphabetically.\n",
    "\n",
    "For e.g. Input: \"p-y-t-h-o-n\"\n",
    "        Output: ['h', 'n','o', 'p', 't', 'y']`"
   ]
  },
  {
   "cell_type": "code",
   "execution_count": 14,
   "id": "6f14cb63",
   "metadata": {},
   "outputs": [
    {
     "name": "stdout",
     "output_type": "stream",
     "text": [
      "enter a word: p-y-t-h-o-n\n",
      "h-n-o-p-t-y\n"
     ]
    }
   ],
   "source": [
    "x = input(\"enter a word: \")\n",
    "l1=[]\n",
    "for a in x.split('-'):\n",
    "    l1.append(a)\n",
    "l1.sort()\n",
    "x2 = '-'.join(l1)\n",
    "print(x2)"
   ]
  },
  {
   "cell_type": "code",
   "execution_count": null,
   "id": "dense-jungle",
   "metadata": {},
   "outputs": [],
   "source": [
    "#S5\n",
    "WAP in python to find the number of vowels, consonants, digits, special \n",
    "characters and white space characters in a string input by the user.\n",
    "\n",
    "Example: Input: \"Qwerty@123\"\n",
    "\toutput: v = 1, c = 5, d = 3, w = 0, s = 1"
   ]
  },
  {
   "cell_type": "code",
   "execution_count": 17,
   "id": "1238f705",
   "metadata": {},
   "outputs": [
    {
     "name": "stdout",
     "output_type": "stream",
     "text": [
      "Enter a value: Qwerty@123\n",
      "Qwerty@123\n",
      "v=1, c =5, d=3, w=0, s=1\n"
     ]
    }
   ],
   "source": [
    "s1 = input(\"Enter a value: \")\n",
    "print(s1)\n",
    "w = 0\n",
    "v = 0\n",
    "c = 0\n",
    "d = 0\n",
    "s = 0\n",
    "for a in s1:\n",
    "    x = ord(a)\n",
    "    if x == 32:\n",
    "        w += 1\n",
    "    elif 48 <= x <= 57:\n",
    "        d += 1\n",
    "    elif 33 <= x<= 47 or 58 <= x<= 64 or 91 <= x<= 96 or 123 <= x<= 126:\n",
    "        s +=1\n",
    "    elif x in [65,69,73,79,85,97,101,105,111,117]:\n",
    "          v +=1\n",
    "    else:\n",
    "        c +=1\n",
    "        \n",
    "print(f\"v={v}, c ={c}, d={d}, w={w}, s={s}\")"
   ]
  },
  {
   "cell_type": "code",
   "execution_count": null,
   "id": "black-publicity",
   "metadata": {},
   "outputs": [],
   "source": [
    "**********#S6\n",
    "WAP in python to check the strength of the password input by the user based on the following features.\n",
    "    Length minimum of 8 characters  (+1 Strength)\n",
    "    Combination of upper case & lower case characters (+1 Strength)\n",
    "    Combination of alphabets & digits (+1 Strength)\n",
    "    Use of Special Characters (+1 Strength)\n",
    "    \n",
    "Example: Input: \"Qwerty@123\"\n",
    "        Output: Strength = 4"
   ]
  },
  {
   "cell_type": "code",
   "execution_count": 19,
   "id": "a6fc1701",
   "metadata": {},
   "outputs": [
    {
     "name": "stdout",
     "output_type": "stream",
     "text": [
      "Enter password: Qwerty@123\n",
      "Strength: 4\n"
     ]
    }
   ],
   "source": [
    "x = input(\"Enter password: \")\n",
    "x2 = x\n",
    "y = 0\n",
    "y2 = 0\n",
    "y3 = 0\n",
    "s1 = []\n",
    "if len(x) > 9:\n",
    "    y += 1\n",
    "for a in x:\n",
    "    y1 = ord(a)\n",
    "    if 33 <= y1<= 47 or 58 <= y1<= 64 or 91 <= y1<= 96 or 123 <= y1<= 126:\n",
    "        x2 = x2.replace(a, \"\")\n",
    "        y2 +=1\n",
    "if y2 != 0:\n",
    "    y +=1\n",
    "if not (x2.isupper()) and not(x2.islower()) and len(x2)!= 0:\n",
    "    y +=1\n",
    "if x2.isalnum():\n",
    "    for a in x2:\n",
    "        if 48 <= ord(a) <= 57:\n",
    "            y3 +=1\n",
    "            x2 = x2.replace(a,\"\")\n",
    "if y3 != 0 and x2.isalpha():\n",
    "        y +=1\n",
    "print(f\"Strength: {y}\")\n"
   ]
  },
  {
   "cell_type": "code",
   "execution_count": null,
   "id": "fresh-encoding",
   "metadata": {},
   "outputs": [],
   "source": [
    "#S7\n",
    "WAP in python to compare two strings and tell the user if both of those strings are same or not. \n",
    "Ignore their case.\n",
    "\n",
    "Example: Input String1: \"Hello\"\n",
    "\tInput String2: \"hello\"\n",
    "\tOutput: Strings are same"
   ]
  },
  {
   "cell_type": "code",
   "execution_count": null,
   "id": "e1e528ab",
   "metadata": {},
   "outputs": [],
   "source": [
    "s1 = input(\"Input string 1: \")\n",
    "s2 = input(\"Input string 2: \")\n",
    "x = 0\n",
    "if len(s1) == len(s2):\n",
    "    for a in range(len(s1)):\n",
    "        if s1[a] == s2[a]:\n",
    "            x += 1 \n",
    "        else:\n",
    "            break\n",
    "if (x == len(s2)):\n",
    "    print(\"String are same\")\n",
    "else:\n",
    "    print(\"String are not same\")\n",
    "        "
   ]
  },
  {
   "cell_type": "code",
   "execution_count": null,
   "id": "acoustic-pastor",
   "metadata": {},
   "outputs": [],
   "source": [
    "#S8\n",
    "WAP in python to calculate the number of times a character is repeated in a given string.\n",
    "Take the string and character from the user.\n",
    "\n",
    "Example: Input String: \"Neil Nitin Mukesh\"\n",
    "        Input Character: \"e\"\n",
    "        Output: 2"
   ]
  },
  {
   "cell_type": "code",
   "execution_count": 2,
   "id": "1cf19ac5",
   "metadata": {},
   "outputs": [
    {
     "name": "stdout",
     "output_type": "stream",
     "text": [
      "Enter the String: Neil Nitin Mukesh\n",
      "Enter value to search in given string: e\n",
      "No of repeation of e= 2\n"
     ]
    }
   ],
   "source": [
    "s = input(\"Enter the String: \")\n",
    "s1 = input(\"Enter value to search in given string: \")\n",
    "y = 0\n",
    "for a in s:\n",
    "    x = ord(a)\n",
    "    x2 = ord(s1)\n",
    "    if x == x2:\n",
    "        y +=1\n",
    "print(f\"No of repeation of {s1}= {y}\")"
   ]
  },
  {
   "cell_type": "code",
   "execution_count": null,
   "id": "handmade-bidding",
   "metadata": {},
   "outputs": [],
   "source": [
    "#S9\n",
    "WAP in python which accepts string from the user and displays only those characters/elements which are present at an even index.\n",
    "\n",
    "Example: \n",
    "    Input: \"Python\"\n",
    "    Output: Pto"
   ]
  },
  {
   "cell_type": "code",
   "execution_count": null,
   "id": "a4e6e05d",
   "metadata": {},
   "outputs": [],
   "source": [
    "s1 = input(\"Enter a String: \")\n",
    "l1 = [x for x in s1]\n",
    "for x in range(len(l1)):\n",
    "    if ((x+1)%2 == 0):\n",
    "        l1[x] = ''\n",
    "s2 = ''.join(l1)\n",
    "print(s2)\n",
    "     "
   ]
  },
  {
   "cell_type": "code",
   "execution_count": 1,
   "id": "4d4ac786",
   "metadata": {},
   "outputs": [
    {
     "name": "stdout",
     "output_type": "stream",
     "text": [
      "Enter the String: Python\n",
      "Pto\n"
     ]
    }
   ],
   "source": [
    "s = input(\"Enter the String: \")\n",
    "l1 = []\n",
    "a = 1\n",
    "for a1 in s:\n",
    "    a += 1\n",
    "    if a%2 == 0:\n",
    "        l1.append(a1)\n",
    "y= ''.join(l1)\n",
    "print(y)"
   ]
  },
  {
   "cell_type": "code",
   "execution_count": null,
   "id": "polish-regulation",
   "metadata": {},
   "outputs": [],
   "source": [
    "#S10\n",
    "WAP in python to capitalize the first letter of the First Name and Surname where whole name is taken as input from the user.\n",
    "\n",
    "Example: Input: \"first last\" or \"FIRST LAST\" or \"first lAst\" i.e. Input can be in any case.\n",
    "        Output: \"First Last\""
   ]
  },
  {
   "cell_type": "code",
   "execution_count": null,
   "id": "c3162efd",
   "metadata": {},
   "outputs": [],
   "source": [
    "s1 = input(\"Name of the person: \")\n",
    "s2 = s1.title()\n",
    "print(s2)"
   ]
  },
  {
   "cell_type": "code",
   "execution_count": null,
   "id": "thrown-hampshire",
   "metadata": {},
   "outputs": [],
   "source": [
    "#S11******** in input changes\n",
    "Write a Python program that accepts a comma separated sequence of words as input and \n",
    "prints the unique words in sorted form (alphanumerically).\n",
    "\n",
    "\tSample Words : red, white, black, red, green    \n",
    "\tExpected Result : black, green, red, red, white"
   ]
  },
  {
   "cell_type": "code",
   "execution_count": 14,
   "id": "126505d0",
   "metadata": {},
   "outputs": [
    {
     "name": "stdout",
     "output_type": "stream",
     "text": [
      "Enter comma separated sequence of words: red, white, black, red, green\n",
      "black green red red white\n"
     ]
    }
   ],
   "source": [
    "s1 = input(\"Enter comma separated sequence of words: \")\n",
    "l1 = []\n",
    "for a in s1.split(', '):\n",
    "    l1.append(a)\n",
    "l1.sort()\n",
    "x2= ' '.join(l1)\n",
    "print(x2)"
   ]
  },
  {
   "cell_type": "code",
   "execution_count": null,
   "id": "empty-necklace",
   "metadata": {},
   "outputs": [],
   "source": [
    "#S12\n",
    "Write a Python program to count repeated characters in a string.\n",
    "\n",
    "\tSample string: 'thequickbrownfoxjumpsoverthelazydog'\n",
    "\tExpected output :\n",
    "\t\t\to 4\n",
    "\t\t\te 3\n",
    "\t\t\tu 2\n",
    "\t\t\th 2\n",
    "\t\t\tr 2\n",
    "\t\t\tt 2"
   ]
  },
  {
   "cell_type": "code",
   "execution_count": 15,
   "id": "local-herald",
   "metadata": {},
   "outputs": [
    {
     "name": "stdout",
     "output_type": "stream",
     "text": [
      "Enter the string: thequickbrownfoxjumpsoverthelazydog\n",
      "h  2\n",
      "o  4\n",
      "e  3\n",
      "u  2\n",
      "r  2\n",
      "t  2\n"
     ]
    }
   ],
   "source": [
    "y = input(\"Enter the string: \")\n",
    "for a in set(y):\n",
    "    x1 = y.count(a)\n",
    "    if (x1 > 1):\n",
    "        print(f\"{a}  {x1}\")"
   ]
  },
  {
   "cell_type": "code",
   "execution_count": null,
   "id": "hidden-trout",
   "metadata": {},
   "outputs": [],
   "source": []
  },
  {
   "cell_type": "code",
   "execution_count": null,
   "id": "female-ladder",
   "metadata": {},
   "outputs": [],
   "source": []
  },
  {
   "cell_type": "markdown",
   "id": "phantom-woman",
   "metadata": {},
   "source": [
    "### List Questions"
   ]
  },
  {
   "cell_type": "code",
   "execution_count": null,
   "id": "average-intervention",
   "metadata": {},
   "outputs": [],
   "source": [
    "#Li1************ input method without []\n",
    "WAP to remove empty strings from the list of strings. Take list as input from the user.\n",
    "\n",
    "For example: Input: [\"My\", \"name\", \"\", \"is\", \"\", \"Alankrita\", \"\", \".\"]\n",
    "            Output: [\"My\", \"name\", \"is\", \"Alankrita\", \".\"]"
   ]
  },
  {
   "cell_type": "code",
   "execution_count": 18,
   "id": "0ea41714",
   "metadata": {},
   "outputs": [
    {
     "name": "stdout",
     "output_type": "stream",
     "text": [
      "Enter list[\"My\", \"name\", \"\", \"is\", \"\", \"Alankrita\", \"\", \".\",\"\",\"\"]\n",
      "My <class 'str'>\n",
      "['My', 'name', 'is', 'Alankrita', '.']\n"
     ]
    }
   ],
   "source": [
    "l1 = eval(input('Enter list'))\n",
    "l2 = []\n",
    "for a in l1:\n",
    "    if a != '':\n",
    "        l2.append(a)\n",
    "print(l2)\n",
    "        \n"
   ]
  },
  {
   "cell_type": "code",
   "execution_count": null,
   "id": "level-provision",
   "metadata": {},
   "outputs": [],
   "source": [
    "#Li2\n",
    "WAP to make a list of all the characters starting from character 'A' to input charaacter from the user.\n",
    "\n",
    "For e.g. Input: 'H'\n",
    "        Output: [\"A\", \"B\", \"C\", \"D\", \"E\", \"F\", \"G\", \"H\"]"
   ]
  },
  {
   "cell_type": "code",
   "execution_count": 19,
   "id": "a6c8eb5a",
   "metadata": {},
   "outputs": [
    {
     "name": "stdout",
     "output_type": "stream",
     "text": [
      "Enter a alphebetj\n",
      "['a', 'b', 'c', 'd', 'e', 'f', 'g', 'h', 'i', 'j']\n"
     ]
    }
   ],
   "source": [
    "s1 = input(\"Enter a alphebet\")\n",
    "l1 = []\n",
    "l2 = []\n",
    "for a in range(65,91):\n",
    "    l1.append(chr(a))\n",
    "for a in range(97,123):\n",
    "    l2.append(chr(a))\n",
    "if s1 in l1:\n",
    "    x = l1.index(s1)+1\n",
    "    x1 = len(l1)\n",
    "    del l1[x:x1]\n",
    "    print(l1)\n",
    "elif s1 in l2:\n",
    "    x = l2.index(s1)+1\n",
    "    x1 = len(l2)\n",
    "    del l2[x:x1]\n",
    "    print(l2)\n",
    "else:\n",
    "    print(\"Check input\")"
   ]
  },
  {
   "cell_type": "code",
   "execution_count": null,
   "id": "foreign-freeware",
   "metadata": {},
   "outputs": [],
   "source": [
    "#Li3\n",
    "WAP to check if a specific employee e is present in a company or not. Employee names are saved in a list.\n",
    "e is taken as input from the user.\n",
    "\n",
    "For example: empList = [\"Ashwin\", \"Rachit\", \"Sanjana\", \"David\", \"Komal\"]\n",
    "            Input1: \"Komal\"\n",
    "            Output1: \"Employee is present\"\n",
    "            \n",
    "            Input2: \"Harshil\"\n",
    "            Output2: \"Employee is not present\""
   ]
  },
  {
   "cell_type": "code",
   "execution_count": 12,
   "id": "71b25c3b",
   "metadata": {},
   "outputs": [
    {
     "name": "stdout",
     "output_type": "stream",
     "text": [
      "Enter number of employee to enter: 2\n",
      "Enter 1 name : Abhilash\n",
      "Enter 2 name : Akshai\n",
      "Enter name to searchjh\n",
      "Employee not present\n"
     ]
    }
   ],
   "source": [
    "x = int(input(\"Enter number of employee to enter: \"))\n",
    "# l1=[]\n",
    "# for a in range(x):\n",
    "#     l1.append(input(\"Enter employee name\"))\n",
    "l1 =[input(f'Enter {a+1} name : ')for a in range(x)]              \n",
    "s1 = input(\"Enter name to search\")\n",
    "if s1 in l1:\n",
    "    print(\"Employee is present\")\n",
    "else:\n",
    "    print(\"Employee not present\")"
   ]
  },
  {
   "cell_type": "code",
   "execution_count": null,
   "id": "roman-aaron",
   "metadata": {},
   "outputs": [],
   "source": [
    "#Li4\n",
    "Write a python program to find the maximum and minimum number in a list of 10 elements \n",
    "   (taken as input from the user) and also find the index position of the these numbers.\n",
    "    \n",
    "   For example: Input : [25, 2, 1, 86, 42, 32, 27, 12, 31, 10]\n",
    "\t\tOutput: Max Number: 86, Index of Max Number: 3\n",
    "\t\t\tMin Number: 1, Index of Min Number: 2"
   ]
  },
  {
   "cell_type": "code",
   "execution_count": 14,
   "id": "3e23d2d1",
   "metadata": {},
   "outputs": [
    {
     "name": "stdout",
     "output_type": "stream",
     "text": [
      "Enter 1 number25\n",
      "Enter 2 number2\n",
      "Enter 3 number1\n",
      "Enter 4 number86\n",
      "Enter 5 number42\n",
      "Enter 6 number32\n",
      "Enter 7 number27\n",
      "Enter 8 number12\n",
      "Enter 9 number31\n",
      "Enter 10 number10\n",
      " Max Number:86, Index of Max Number: 3\n",
      " Min Number: 1,Index of Min Number: 2\n"
     ]
    }
   ],
   "source": [
    "# l1 = eval(input(\"enter list of 10 number: \"))\n",
    "l1 = [int(input(f\"Enter {a+1} number: \")) for a in range(10)]\n",
    "x1 = min(l1)\n",
    "x2 = max(l1)\n",
    "y1 = l1.index(x1)\n",
    "y2 = l1.index(x2)\n",
    "print(f\" Max Number:{x2}, Index of Max Number: {y2}\\n Min Number: {x1},Index of Min Number: {y1}\")"
   ]
  },
  {
   "cell_type": "code",
   "execution_count": null,
   "id": "announced-victor",
   "metadata": {},
   "outputs": [],
   "source": [
    "#Li5\n",
    "Given two Python lists of same length. Iterate both lists simultaneously such that list1 \n",
    "   should display item in original order and list2 in reverse order.\n",
    "    \n",
    "   For example: Input = list1 = [10, 20, 30, 40]\n",
    "\t\t\tlist2 = [100, 200, 300, 400]\n",
    "            Output: 10 400\n",
    "                    20 300\n",
    "                    30 200\n",
    "                    40 100"
   ]
  },
  {
   "cell_type": "code",
   "execution_count": 5,
   "id": "c6b99f93",
   "metadata": {},
   "outputs": [
    {
     "name": "stdout",
     "output_type": "stream",
     "text": [
      "Enter 1st list: [10, 20, 30, 40]\n",
      "Enter 2nd list: [100, 200, 300, 400]\n",
      "4\n",
      "10 400\n",
      "20 300\n",
      "30 200\n",
      "40 100\n"
     ]
    }
   ],
   "source": [
    "l1 = eval(input(\"Enter 1st list: \"))\n",
    "l2 = eval(input(\"Enter 2nd list: \"))\n",
    "x = len(l2)\n",
    "y = len(l1)\n",
    "x1 = 0\n",
    "x2 = x\n",
    "if (y>x):\n",
    "    x3 = y - x\n",
    "    x2 = y \n",
    "    for a in range(x3):\n",
    "        l2.append(' ')\n",
    "elif x>y:\n",
    "    x3 = x - y\n",
    "    x2 = x\n",
    "    for a in range(x3):\n",
    "        l1.append(' ')\n",
    "for a in range(x2):\n",
    "        x -= 1\n",
    "        print(l1[x1], l2[x], sep = ' '  )\n",
    "        x1 += 1      \n"
   ]
  },
  {
   "cell_type": "code",
   "execution_count": null,
   "id": "rural-stevens",
   "metadata": {},
   "outputs": [],
   "source": [
    "#Li6\n",
    "WAP to concatenate two lists index-wise.\n",
    "    list1 = [\"M\", \"na\", \"i\", \"Ashu\"]\n",
    "    list2 = [\"y\", \"me\", \"s\", \"tosh\"]\n",
    "    Output: ['My', 'name', 'is', 'Ashutosh']"
   ]
  },
  {
   "cell_type": "code",
   "execution_count": 6,
   "id": "e9eeba3c",
   "metadata": {},
   "outputs": [
    {
     "name": "stdout",
     "output_type": "stream",
     "text": [
      "Enter 1st list: [\"M\", \"na\", \"i\", \"Ashu\"]\n",
      "Enter 2nd list: [\"y\", \"me\", \"s\", \"tosh\"]\n",
      "['My', 'name', 'is', 'Ashutosh']\n"
     ]
    }
   ],
   "source": [
    "l1 = eval(input(\"Enter 1st list: \"))\n",
    "l2 = eval(input(\"Enter 2nd list: \"))\n",
    "l3 = []\n",
    "for a in range(len(l1)):\n",
    "    l3.append (l1[a] + l2[a])\n",
    "print(l3)"
   ]
  },
  {
   "cell_type": "code",
   "execution_count": null,
   "id": "f0601363",
   "metadata": {},
   "outputs": [],
   "source": [
    "l1 = eval(input(\"Enter 1st list: \"))\n",
    "l2 = eval(input(\"Enter 2nd list: \"))\n",
    "l3 = []\n",
    "x = len(l2)\n",
    "y = len(l1)\n",
    "x1 = 0\n",
    "x2 = x\n",
    "if (y>x):\n",
    "    x3 = y - x\n",
    "    x2 = y \n",
    "    for a in range(x3):\n",
    "        l2.append('')\n",
    "elif x>y:\n",
    "    x3 = x - y\n",
    "    x2 = x\n",
    "    for a in range(x3):\n",
    "        l1.append('')\n",
    "for a in range(x2):\n",
    "    l3.append (str(l1[a]) + str(l2[a]))\n",
    "print(l3)"
   ]
  },
  {
   "cell_type": "code",
   "execution_count": null,
   "id": "accessory-switch",
   "metadata": {},
   "outputs": [],
   "source": [
    "#Li7******** doubt what if there are duplicate elements in the list\n",
    "WAP to remove/delete items from a list while iterating without creating a duplicate list.\n",
    "Take the elements to be deleted from the user in real-time."
   ]
  },
  {
   "cell_type": "code",
   "execution_count": null,
   "id": "31d105b4",
   "metadata": {},
   "outputs": [],
   "source": [
    "x = int(input(\"Enter elemenets in list: \"))\n",
    "l1 = [input(f\"Enter {a+1} element\") for a in range(x)]\n",
    "s1 = input(\"Enter element to delete:\")\n",
    "x1 = 0\n",
    "for a in l1:\n",
    "    if a == s1:\n",
    "        l1.pop(x1)\n",
    "    x1 += 1\n",
    "print(l1)"
   ]
  },
  {
   "cell_type": "code",
   "execution_count": null,
   "id": "massive-bangladesh",
   "metadata": {},
   "outputs": [],
   "source": [
    "#Li8\n",
    "WAP to generate a Python list of all the prime numbers between n to m where n & m are taken as input from the user."
   ]
  },
  {
   "cell_type": "code",
   "execution_count": null,
   "id": "08532f84",
   "metadata": {},
   "outputs": [],
   "source": [
    "x1 = int(input(\"Enter start of prime number list: \"))\n",
    "x2 = int(input(\"Enter end of prime number list: \"))\n",
    "l1 = []\n",
    "for a in range(x1,x2+1):\n",
    "    for i in range(2,int(a/2)+1):\n",
    "#         print(a,i)\n",
    "        if (a%i) == 0:\n",
    "            break\n",
    "    else:\n",
    "        l1.append(a)\n",
    "print(l1)"
   ]
  },
  {
   "cell_type": "code",
   "execution_count": null,
   "id": "active-terrace",
   "metadata": {},
   "outputs": [],
   "source": [
    "#Li9\n",
    "WAP to concatenate two lists in the following order:\n",
    "    list1 = [\"Hello \", \"World\"]\n",
    "    list2 = [\"Hi\", \"There\"]\n",
    "    Output: ['Hello Hi', 'Hello There', 'World Hi', 'World There']"
   ]
  },
  {
   "cell_type": "code",
   "execution_count": null,
   "id": "31f7d0f6",
   "metadata": {},
   "outputs": [],
   "source": [
    "r1 = int(input(\"Enter Range of 1st list: \"))\n",
    "l1 = [input(\"Enter elements in list\") for a in  range(r1)]\n",
    "r2 = int(input(\"Enter Range of 2nd list: \"))\n",
    "l2 = [input(\"Enter elements in list \") for a in  range(r2)]\n",
    "# l1 = [\"Hello \", \"World\",\"Dude\"]\n",
    "# l2 = [\"Hi\", \"There\"]\n",
    "print(l1, l2, len(l2))\n",
    "l3 = []\n",
    "for a in range(r1):\n",
    "    for b in range(r2):\n",
    "        x = l1[a]+l2[b]\n",
    "        l3.append(x)\n",
    "print(l3)"
   ]
  },
  {
   "cell_type": "code",
   "execution_count": null,
   "id": "documentary-labor",
   "metadata": {},
   "outputs": [],
   "source": [
    "#Li10\n",
    "Given two lists having names of students and their corrsponding marks.\n",
    "names = [\"Ashutosh\", \"Ajay\", \"Alankrita\", \"Rachit\", \"Komal\", \"Anil\"]\n",
    "marks = [23, 21, 26, 23, 27, 24]\n",
    "Take name of a student as input from the user and output his/her marks.\n",
    "\n",
    "For e.g.:\n",
    "    Input1: \"Alankrita\"\n",
    "    Output1: 26\n",
    "        \n",
    "    Input2: \"Someone\"\n",
    "    Output2: \"Student not found\""
   ]
  },
  {
   "cell_type": "code",
   "execution_count": 1,
   "id": "1da37f3a",
   "metadata": {},
   "outputs": [
    {
     "name": "stdout",
     "output_type": "stream",
     "text": [
      "Enter name of student: A\n",
      "Check the name\n"
     ]
    }
   ],
   "source": [
    "names = [\"Ashutosh\", \"Ajay\", \"Alankrita\", \"Rachit\", \"Komal\", \"Anil\"]\n",
    "marks = [23, 21, 26, 23, 27, 24]\n",
    "x1 = input(\"Enter name of student: \")\n",
    "try:\n",
    "    x2 = names.index(x1)\n",
    "    print(f\"Mark = {marks[x2]}\")\n",
    "except:\n",
    "    print(\"Check the name\")"
   ]
  },
  {
   "cell_type": "code",
   "execution_count": null,
   "id": "growing-burden",
   "metadata": {},
   "outputs": [],
   "source": [
    "#Li11\n",
    "Extended question of #Li10\n",
    "Add an option to change marks of any students in the same code of #Li10. Take student name and new marks from the user. \n",
    "Print the modified list as output.\n",
    "\n",
    "For e.g.: Input: \"Ajay\"\n",
    "        new_mark: 25\n",
    "        Output: marks = [23, 25, 26, 23, 27, 24]"
   ]
  },
  {
   "cell_type": "code",
   "execution_count": 10,
   "id": "37a47830",
   "metadata": {},
   "outputs": [
    {
     "name": "stdout",
     "output_type": "stream",
     "text": [
      "Enter name of student: Anil\n",
      "Mark = 24\n",
      "Do you want to change mark(Y/N):y\n",
      "y\n",
      "Enter new mark: 2\n",
      "[23, 21, 26, 23, 27, 2]\n"
     ]
    }
   ],
   "source": [
    "# Multiple excption needed\n",
    "names = [\"Ashutosh\", \"Ajay\", \"Alankrita\", \"Rachit\", \"Komal\", \"Anil\"]\n",
    "marks = [23, 21, 26, 23, 27, 24]\n",
    "x1 = input(\"Enter name of student: \")\n",
    "try:\n",
    "    x2 = names.index(x1)\n",
    "    print(f\"Mark = {marks[x2]}\")\n",
    "    y1 = input(\"Do you want to change mark(Y/N):\")\n",
    "    print(y1)\n",
    "    if y1 == 'Y' or y1 == 'y':\n",
    "        y2 = int(input(\"Enter new mark: \"))\n",
    "        marks.pop(x2)\n",
    "        marks.insert(x2,y2)\n",
    "        print(marks)\n",
    "except:\n",
    "    print(\"Check the name\")"
   ]
  },
  {
   "cell_type": "code",
   "execution_count": null,
   "id": "celtic-coordinator",
   "metadata": {},
   "outputs": [],
   "source": [
    "#Li12\n",
    "Extended question of #Li10\n",
    "Give an option to enter the marks of a new student into the existing lists names and marks. Take new data as input from user.\n",
    "Print the new names and marks list as output.\n",
    "\n",
    "For e.g.: Input: New_name = \"Harshil\"\n",
    "                new_Marks = 20\n",
    "        Output: names = [\"Ashutosh\", \"Ajay\", \"Alankrita\", \"Rachit\", \"Komal\", \"Anil\", \"Harshil\"]\n",
    "                marks = [23, 21, 26, 23, 27, 24, 20]"
   ]
  },
  {
   "cell_type": "code",
   "execution_count": 16,
   "id": "innovative-garage",
   "metadata": {},
   "outputs": [
    {
     "name": "stdout",
     "output_type": "stream",
     "text": [
      "Enter name of student: Harshil\n",
      "Mark of student: 20\n",
      "['Ashutosh', 'Ajay', 'Alankrita', 'Rachit', 'Komal', 'Anil', 'Harshil'] \n",
      " [23, 21, 26, 23, 27, 24, 20]\n"
     ]
    }
   ],
   "source": [
    "names = [\"Ashutosh\", \"Ajay\", \"Alankrita\", \"Rachit\", \"Komal\", \"Anil\"]\n",
    "marks = [23, 21, 26, 23, 27, 24]\n",
    "x1 = input(\"Enter name of student: \")\n",
    "x2 = int(input(\"Mark of student: \"))\n",
    "names.append(x1)\n",
    "marks.append(x2)\n",
    "print(f\"{names} \\n {marks}\" )"
   ]
  },
  {
   "cell_type": "code",
   "execution_count": null,
   "id": "direct-vinyl",
   "metadata": {},
   "outputs": [],
   "source": []
  },
  {
   "cell_type": "markdown",
   "id": "noble-rogers",
   "metadata": {},
   "source": [
    "### Dictionary Questions"
   ]
  },
  {
   "cell_type": "code",
   "execution_count": null,
   "id": "disturbed-stream",
   "metadata": {},
   "outputs": [],
   "source": [
    "#D1\n",
    "WAP in Python to merge following dictionaries to create a new one:\n",
    "\tdic1={1:10, 2:20}\n",
    "\tdic2={3:30, 4:40}\n",
    "\tdic3={5:50, 6:60}"
   ]
  },
  {
   "cell_type": "code",
   "execution_count": 24,
   "id": "0b52aaaa",
   "metadata": {},
   "outputs": [
    {
     "name": "stdout",
     "output_type": "stream",
     "text": [
      "{1: 10, 2: 20, 3: 30, 4: 40, 5: 50, 6: 60}\n"
     ]
    }
   ],
   "source": [
    "dic1={1:10, 2:20}\n",
    "dic2={3:30, 4:40}\n",
    "dic3={5:50, 6:60}\n",
    "dic4={**dic1, **dic2, **dic3}\n",
    "print(dic4)"
   ]
  },
  {
   "cell_type": "code",
   "execution_count": null,
   "id": "lyric-illinois",
   "metadata": {},
   "outputs": [],
   "source": [
    "#D2\n",
    "WAP in python to generate and print a dictionary that contains a number (between 1 and n) \n",
    "in the form {x : x*x} where n is the input from the user.\n",
    "\n",
    "For e.g. Input: 4\n",
    "        Output: {1:1, 2:4, 3:9, 4:16}"
   ]
  },
  {
   "cell_type": "code",
   "execution_count": 29,
   "id": "9d1014be",
   "metadata": {},
   "outputs": [
    {
     "name": "stdout",
     "output_type": "stream",
     "text": [
      "Enter number of elements: 4\n",
      "{1: 1, 2: 4, 3: 9, 4: 16}\n"
     ]
    }
   ],
   "source": [
    "di = {}\n",
    "n = int(input(\"Enter number of elements: \"))\n",
    "for a in range(1,n+1):\n",
    "    di.update({a:a*a})\n",
    "print(di)"
   ]
  },
  {
   "cell_type": "code",
   "execution_count": 30,
   "id": "roman-orleans",
   "metadata": {},
   "outputs": [
    {
     "ename": "SyntaxError",
     "evalue": "invalid syntax (<ipython-input-30-01c064324079>, line 2)",
     "output_type": "error",
     "traceback": [
      "\u001b[1;36m  File \u001b[1;32m\"<ipython-input-30-01c064324079>\"\u001b[1;36m, line \u001b[1;32m2\u001b[0m\n\u001b[1;33m    WAP in python to find the number of vowels, consonants, digits, white space characters &\u001b[0m\n\u001b[1;37m                  ^\u001b[0m\n\u001b[1;31mSyntaxError\u001b[0m\u001b[1;31m:\u001b[0m invalid syntax\n"
     ]
    }
   ],
   "source": [
    "#D3\n",
    "WAP in python to find the number of vowels, consonants, digits, white space characters & \n",
    "special characters in a string and save the result in the form of a dictionary.\n"
   ]
  },
  {
   "cell_type": "code",
   "execution_count": 35,
   "id": "48767dad",
   "metadata": {},
   "outputs": [
    {
     "name": "stdout",
     "output_type": "stream",
     "text": [
      "Enter a value: asdfghjkl234567!@#$%^&   \n",
      "asdfghjkl234567!@#$%^&   \n",
      "{'vowels': 1, 'constants': 8, 'digits': 6, 'whitespace': 3, 'special': 7}\n"
     ]
    }
   ],
   "source": [
    "s1 = input(\"Enter a value: \")\n",
    "print(s1)\n",
    "w = 0\n",
    "v = 0\n",
    "c = 0\n",
    "d = 0\n",
    "s = 0\n",
    "for a in s1:\n",
    "    x = ord(a)\n",
    "    if x == 32:\n",
    "        w += 1\n",
    "    elif 48 <= x <= 57:\n",
    "        d += 1\n",
    "    elif 33 <= x<= 47 or 58 <= x<= 64 or 91 <= x<= 96 or 123 <= x<= 126:\n",
    "        s +=1\n",
    "    elif x in [65,69,73,79,85,97,101,105,111,117]:\n",
    "          v +=1\n",
    "    else:\n",
    "        c +=1\n",
    "di1 = {'vowels':v, 'constants':c, 'digits':d,'whitespace':w,'special':s}\n",
    "print(di1)        \n",
    "# print(f\"v={v}, c ={c}, d={d}, w={w}, s={s}\")"
   ]
  },
  {
   "cell_type": "code",
   "execution_count": null,
   "id": "administrative-tunisia",
   "metadata": {},
   "outputs": [],
   "source": [
    "#D4\n",
    "WAP to reverse map the dictionary items. Take dictionary as input from the user.\n",
    "\n",
    "\tFor eg., Input: d = {'A': 65, 'B': 66, 'C': 67, 'D': 68}\n",
    "            Output: d = {65: 'A', 66: 'B', 67: 'C', 68: 'D'}"
   ]
  },
  {
   "cell_type": "code",
   "execution_count": 43,
   "id": "851ca7dc",
   "metadata": {},
   "outputs": [
    {
     "name": "stdout",
     "output_type": "stream",
     "text": [
      "Enter no of entries: 4\n",
      "enter key: A\n",
      "enter element: 65\n",
      "enter key: B\n",
      "enter element: 66\n",
      "enter key: C\n",
      "enter element: 67\n",
      "enter key: D\n",
      "enter element: 68\n",
      "{'A': 65, 'B': 66, 'C': 67, 'D': 68}\n",
      "{65: 'A', 66: 'B', 67: 'C', 68: 'D'}\n"
     ]
    }
   ],
   "source": [
    "di1 = {}\n",
    "x = int(input(\"Enter no of entries: \"))\n",
    "for i in range(x):\n",
    "    di1.update({input(\"enter key: \"): eval(input(\"enter element: \"))})\n",
    "print(di1)\n",
    "d2 = {}\n",
    "for a in di1:\n",
    "    d2.update({di1.get(a):a})\n",
    "#     print(d.get(a))\n",
    "print(d2)"
   ]
  },
  {
   "cell_type": "code",
   "execution_count": 42,
   "id": "43a19c09",
   "metadata": {},
   "outputs": [
    {
     "name": "stdout",
     "output_type": "stream",
     "text": [
      "{65: 'A', 66: 'B', 67: 'C', 68: 'D'}\n"
     ]
    }
   ],
   "source": [
    "d2 = {}\n",
    "for a in d:\n",
    "    d2.update({d.get(a):a})\n",
    "#     print(d.get(a))\n",
    "print(d2)"
   ]
  },
  {
   "cell_type": "code",
   "execution_count": null,
   "id": "empirical-effort",
   "metadata": {},
   "outputs": [],
   "source": [
    "#D5\n",
    "WAP to save Username and Password of 10 employees in an organisation. \n",
    "Take the Username and Password as input from the user one by one and save in the Dictionary."
   ]
  },
  {
   "cell_type": "code",
   "execution_count": 51,
   "id": "83ab5e5f",
   "metadata": {},
   "outputs": [
    {
     "name": "stdout",
     "output_type": "stream",
     "text": [
      "User name: a\n",
      "Password: 1\n",
      "User name: q\n",
      "Password: 2\n",
      "User name: w\n",
      "Password: 3\n",
      "User name: e4\n",
      "Password: e\n",
      "User name: r\n",
      "Password: 4\n",
      "User name: t\n",
      "Password: 5\n",
      "User name: y\n",
      "Password: 6\n",
      "User name: y\n",
      "Password: 6\n",
      "User name: f\n",
      "Password: 4\n",
      "User name: d\n",
      "Password: 4\n",
      "{'a': '1', 'q': '2', 'w': '3', 'e4': 'e', 'r': '4', 't': '5', 'y': '6', 'f': '4', 'd': '4'}\n"
     ]
    }
   ],
   "source": [
    "di1 = {}\n",
    "i = 0\n",
    "while i < 10:\n",
    "    di1.update({input(\"User name: \"): input(\"Password: \")})\n",
    "    i += 1\n",
    "#     for j in di1:\n",
    "#         if j in di1.keys():\n",
    "#             print(\"Username Repeated, try again\")\n",
    "#             i -= 1\n",
    "print(di1)"
   ]
  },
  {
   "cell_type": "code",
   "execution_count": 58,
   "id": "70fbccaa",
   "metadata": {},
   "outputs": [
    {
     "name": "stdout",
     "output_type": "stream",
     "text": [
      "Enter username: q\n",
      "Enter password: 1\n",
      "Enter username: w\n",
      "Enter password: 1\n",
      "Enter username: e\n",
      "Enter password: 1\n",
      "Enter username: r\n",
      "Enter password: 1\n",
      "Enter username: t\n",
      "Enter password: 1\n",
      "Enter username: a\n",
      "Enter password: 1\n",
      "Enter username: s\n",
      "Enter password: 1\n",
      "Enter username: d\n",
      "Enter password: 1\n",
      "Enter username: f\n",
      "Enter password: 1\n",
      "Enter username: g\n",
      "Enter password: 1\n",
      "{'q': '1', 'w': '1', 'e': '1', 'r': '1', 't': '1', 'a': '1', 's': '1', 'd': '1', 'f': '1', 'g': '1'}\n",
      "['q', 'w', 'e', 'r', 't', 'a', 's', 'd', 'f', 'g'] ['1', '1', '1', '1', '1', '1', '1', '1', '1', '1']\n"
     ]
    }
   ],
   "source": [
    "l1 = []\n",
    "l2 = []\n",
    "di1 = {}\n",
    "i = 0\n",
    "while i < 10:\n",
    "    l1.append(input(\"Enter username: \"))\n",
    "    if l1.count(l1[i]) == 1:\n",
    "        l2.append(input(\"Enter password: \"))\n",
    "        i += 1\n",
    "    else:\n",
    "        print(\"Username Repeatd: \")\n",
    "        l1.pop(i)\n",
    "        \n",
    "for a in range(10):\n",
    "        di1.update({l1[a]:l2[a]})\n",
    "print(di1)"
   ]
  },
  {
   "cell_type": "code",
   "execution_count": null,
   "id": "ed853371",
   "metadata": {},
   "outputs": [],
   "source": [
    "# D6\n",
    "Extended Question from #D5\n",
    "Write an additional functionality to check if an employee is present in the organisation or not.\n",
    "Basically \"Search\" Functionality based on their username\n",
    "Take employee name as input from the user.\n",
    "If the employee is present, print \"Present\" else print \"Not Present\""
   ]
  },
  {
   "cell_type": "code",
   "execution_count": 61,
   "id": "stainless-replication",
   "metadata": {},
   "outputs": [
    {
     "name": "stdout",
     "output_type": "stream",
     "text": [
      "enter employee name: q\n",
      "Employee present\n"
     ]
    }
   ],
   "source": [
    "di1 = {'q': '1', 'w': '1', 'e': '1', 'r': '1', 't': '1', 'a': '1', 's': '1', 'd': '1', 'f': '1', 'g': '1'}\n",
    "x = input(\"enter employee name: \")\n",
    "if x in di1.keys():\n",
    "    print(\"Employee present\")\n",
    "else:\n",
    "    print(\"not present\")"
   ]
  },
  {
   "cell_type": "markdown",
   "id": "heated-announcement",
   "metadata": {},
   "source": [
    "### Misc. Questions - i.e. you can use any data type which seems feasible for question"
   ]
  },
  {
   "cell_type": "code",
   "execution_count": null,
   "id": "pursuant-confidentiality",
   "metadata": {},
   "outputs": [],
   "source": [
    "#M1\n",
    "WAP in python that accepts two integers (n) & (m) from user and \n",
    "computes the value of 2n3 + 5m2 - 7n + 10"
   ]
  },
  {
   "cell_type": "code",
   "execution_count": null,
   "id": "different-pilot",
   "metadata": {},
   "outputs": [],
   "source": [
    "#M2\n",
    "Write a python program to find the intersection of elements from two list \n",
    "(find the common elements in two lists)."
   ]
  },
  {
   "cell_type": "code",
   "execution_count": null,
   "id": "inner-american",
   "metadata": {},
   "outputs": [],
   "source": [
    "#M3\n",
    "WAP in Python to find the Max of n numbers all taken as input from the user."
   ]
  },
  {
   "cell_type": "code",
   "execution_count": null,
   "id": "pointed-consensus",
   "metadata": {},
   "outputs": [],
   "source": [
    "#M4\n",
    "WAP which takes a sequence of numbers from the user and check if all input numbers are unique."
   ]
  },
  {
   "cell_type": "code",
   "execution_count": null,
   "id": "broadband-christmas",
   "metadata": {},
   "outputs": [],
   "source": [
    "#M5\n",
    "WAP to reverse a given integer number.\n",
    "Example: Input: 105320\n",
    "        Output: 023501"
   ]
  },
  {
   "cell_type": "code",
   "execution_count": null,
   "id": "canadian-latino",
   "metadata": {},
   "outputs": [],
   "source": [
    "#M6\n",
    "WAP to take 10 integer inputs from the user and save them in a list. \n",
    "The inputs have to be mix of even and odd numbers. \n",
    "Now make one list to save all the even numbers from the input list. \n",
    "Make another list for odd numbers too."
   ]
  },
  {
   "cell_type": "code",
   "execution_count": null,
   "id": "unique-account",
   "metadata": {},
   "outputs": [],
   "source": [
    "#M7\n",
    "WAP to convert temperature in Fahrenheit to Celsius. Take the temperature from the user in float type."
   ]
  },
  {
   "cell_type": "code",
   "execution_count": null,
   "id": "primary-stocks",
   "metadata": {},
   "outputs": [],
   "source": [
    "#M8\n",
    "WAP to continuously take Names as input from the user. \n",
    "Save the incoming names into a list as Full Name and save {First Name:Second Name} in a dictionary.\n",
    "Take inputs till the user enters \"Stop\"\n",
    "\n",
    "For e.g.: Input: \"Shahrukh Khan\", \"Gauri Khan\",...................\"Stop\"\n",
    "         Output: list1 = [\"Shahrukh Khan\", \"Gauri Khan\",....................]\n",
    "                dict1 = {\"Shahrukh\":\"Khan\", \"Gauri\":\"Khan\", .....................}"
   ]
  },
  {
   "cell_type": "code",
   "execution_count": null,
   "id": "sunrise-sculpture",
   "metadata": {},
   "outputs": [],
   "source": [
    "#M9\n",
    "WAP to make a simple and compound interest calculator. Take all the necessary data as input from the user."
   ]
  },
  {
   "cell_type": "code",
   "execution_count": null,
   "id": "tired-tower",
   "metadata": {},
   "outputs": [],
   "source": [
    "#M10\n"
   ]
  },
  {
   "cell_type": "code",
   "execution_count": null,
   "id": "realistic-armor",
   "metadata": {},
   "outputs": [],
   "source": [
    "strin = \"My name is Harshil. My contact number is 9354328885 and I was born on 12th November 2020 in Pune.\"\n",
    "regex = ?\n",
    "Output = ['Harshil', '9354328855', '12th November 2020']\n"
   ]
  },
  {
   "cell_type": "code",
   "execution_count": null,
   "id": "contemporary-concern",
   "metadata": {},
   "outputs": [],
   "source": []
  },
  {
   "cell_type": "code",
   "execution_count": null,
   "id": "lesser-campus",
   "metadata": {},
   "outputs": [],
   "source": []
  }
 ],
 "metadata": {
  "kernelspec": {
   "display_name": "Python 3",
   "language": "python",
   "name": "python3"
  },
  "language_info": {
   "codemirror_mode": {
    "name": "ipython",
    "version": 3
   },
   "file_extension": ".py",
   "mimetype": "text/x-python",
   "name": "python",
   "nbconvert_exporter": "python",
   "pygments_lexer": "ipython3",
   "version": "3.8.8"
  }
 },
 "nbformat": 4,
 "nbformat_minor": 5
}
